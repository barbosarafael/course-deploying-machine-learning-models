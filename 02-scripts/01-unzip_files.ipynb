{
 "cells": [
  {
   "cell_type": "code",
   "execution_count": 32,
   "metadata": {},
   "outputs": [],
   "source": [
    "from pandas import read_csv, DataFrame\n",
    "from zipfile import ZipFile\n",
    "from datetime import datetime\n",
    "import os "
   ]
  },
  {
   "cell_type": "code",
   "execution_count": 33,
   "metadata": {},
   "outputs": [],
   "source": [
    "root_path = os.path.realpath(os.path.join(os.path.dirname(\"__file__\"), '..'))\n",
    "\n",
    "path_to_raw_data = root_path + '/01-data/01-raw/'\n",
    "path_to_processed_data = root_path + '/01-data/02-processed/'"
   ]
  },
  {
   "cell_type": "code",
   "execution_count": 34,
   "metadata": {},
   "outputs": [],
   "source": [
    "def unzip_train_test(zip_path: str, unzip_path: str):\n",
    "    \n",
    "    \"\"\"\n",
    "    Função que lê os arquivos zipados do kaggle em uma determinada pasta e exporta em\\\n",
    "    outra pasta.\n",
    "    \n",
    "    Parametros\n",
    "    ----------\n",
    "    \n",
    "    zip_path: str\n",
    "        Caminho do arquivo zip a ser lido\n",
    "    unzip_path: str\n",
    "        Caminho do arquivo zip a ser exportado\n",
    "        \n",
    "    Retorna\n",
    "    -------\n",
    "    Um teste se o arquivo foi exportado corretamente    \n",
    "    \"\"\"\n",
    "    \n",
    "    zip_main = ZipFile(zip_path)\n",
    "    \n",
    "    if os.path.exists(path_to_processed_data) == False:\n",
    "\n",
    "        os.makedirs(path_to_processed_data)\n",
    "    \n",
    "        print('A pasta foi criada')\n",
    "    \n",
    "    else: \n",
    "    \n",
    "        print('A pasta de dados já existe')\n",
    "\n",
    "    try:\n",
    "        \n",
    "        date = datetime.now().strftime('%d/%m/%Y %H:%M:%S')\n",
    "        print(f'{date} - Salvando os dados de treino')\n",
    "        \n",
    "        \n",
    "        zip_main.extractall(path_to_processed_data)\n",
    "        \n",
    "        date = datetime.now().strftime('%d/%m/%Y %H:%M:%S')\n",
    "        print(f'{date} - Todos os arquivos foram exportados para a pasta: {path_to_processed_data}')\n",
    "        \n",
    "    except Exception as e:\n",
    "        \n",
    "        date = datetime.now().strftime('%d/%m/%Y %H:%M:%S')\n",
    "        print(f'{date} - {str(e)}')"
   ]
  },
  {
   "cell_type": "code",
   "execution_count": 35,
   "metadata": {},
   "outputs": [
    {
     "name": "stdout",
     "output_type": "stream",
     "text": [
      "A pasta foi criada\n",
      "26/07/2022 11:40:40 - Salvando os dados de treino\n",
      "26/07/2022 11:40:40 - Todos os arquivos foram exportados para a pasta: C:\\Users\\msb_rasilva\\Documents\\Github\\couse-deploying-machine-learning-models/01-data/02-processed/\n"
     ]
    }
   ],
   "source": [
    "unzip_train_test(zip_path = path_to_raw_data + 'house-prices-advanced-regression-techniques.zip',\n",
    "                 unzip_path = path_to_processed_data)"
   ]
  }
 ],
 "metadata": {
  "kernelspec": {
   "display_name": "Python 3.10.5 ('venv': venv)",
   "language": "python",
   "name": "python3"
  },
  "language_info": {
   "codemirror_mode": {
    "name": "ipython",
    "version": 3
   },
   "file_extension": ".py",
   "mimetype": "text/x-python",
   "name": "python",
   "nbconvert_exporter": "python",
   "pygments_lexer": "ipython3",
   "version": "3.10.5"
  },
  "orig_nbformat": 4,
  "vscode": {
   "interpreter": {
    "hash": "d375a66bef98ecb9f9a0825666d9b483f608423c685c7b6dfd30634320b12ab8"
   }
  }
 },
 "nbformat": 4,
 "nbformat_minor": 2
}
